{
  "nbformat": 4,
  "nbformat_minor": 0,
  "metadata": {
    "colab": {
      "provenance": []
    },
    "kernelspec": {
      "name": "python3",
      "display_name": "Python 3"
    },
    "language_info": {
      "name": "python"
    }
  },
  "cells": [
    {
      "cell_type": "code",
      "execution_count": null,
      "metadata": {
        "id": "1VtWf8uder1m"
      },
      "outputs": [],
      "source": [
        "# Linear Regression on Indian Houses Dataset\n",
        "\n",
        "import pandas as pd\n",
        "import numpy as np\n",
        "import matplotlib.pyplot as plt\n",
        "from sklearn.model_selection import train_test_split\n",
        "from sklearn.linear_model import LinearRegression\n",
        "from sklearn.metrics import mean_absolute_error, mean_squared_error, r2_score\n",
        "\n",
        "# 1. Load dataset\n",
        "df = pd.read_csv(\"indian_houses_dataset.csv\")  # <-- Ensure CSV file is in same directory\n",
        "print(\"Dataset Preview:\")\n",
        "print(df.head())\n",
        "\n",
        "# 2. Features and Target\n",
        "X = df[[\"Square_Feet\", \"Bedrooms\", \"Bathrooms\"]]\n",
        "y = df[\"Price_INR\"]\n",
        "\n",
        "# 3. Train-Test Split\n",
        "X_train, X_test, y_train, y_test = train_test_split(\n",
        "    X, y, test_size=0.2, random_state=42\n",
        ")\n",
        "\n",
        "# 4. Train Linear Regression Model\n",
        "model = LinearRegression()\n",
        "model.fit(X_train, y_train)\n",
        "\n",
        "# 5. Predictions\n",
        "y_pred = model.predict(X_test)\n",
        "\n",
        "# 6. Evaluation\n",
        "print(\"\\nModel Evaluation:\")\n",
        "print(f\"R² Score: {r2_score(y_test, y_pred):.4f}\")\n",
        "print(f\"Mean Absolute Error: {mean_absolute_error(y_test, y_pred):,.2f}\")\n",
        "print(f\"Root Mean Squared Error: {np.sqrt(mean_squared_error(y_test, y_pred)):,.2f}\")\n",
        "\n",
        "# 7. Model Coefficients\n",
        "print(\"\\nModel Coefficients:\")\n",
        "print(f\"Intercept: {model.intercept_:.2f}\")\n",
        "print(f\"Square_Feet Coefficient: {model.coef_[0]:.2f}\")\n",
        "print(f\"Bedrooms Coefficient: {model.coef_[1]:.2f}\")\n",
        "print(f\"Bathrooms Coefficient: {model.coef_[2]:.2f}\")\n",
        "\n",
        "# 8. Visualization - Actual vs Predicted\n",
        "plt.figure(figsize=(8, 5))\n",
        "plt.scatter(y_test, y_pred, alpha=0.7, color=\"blue\")\n",
        "plt.xlabel(\"Actual Prices (INR)\")\n",
        "plt.ylabel(\"Predicted Prices (INR)\")\n",
        "plt.title(\"Actual vs Predicted House Prices\")\n",
        "plt.plot([y_test.min(), y_test.max()], [y_test.min(), y_test.max()], color=\"red\", linewidth=2)\n",
        "plt.show()\n",
        "\n",
        "# 9. Try a New Prediction\n",
        "sample = np.array([[1500, 3, 2]])  # 1500 sq.ft, 3 bedrooms, 2 bathrooms\n",
        "predicted_price = model.predict(sample)\n",
        "print(f\"\\nPredicted price for 1500 sq.ft, 3 BHK, 2 Bath: ₹{predicted_price[0]:,.2f}\")\n"
      ]
    }
  ]
}